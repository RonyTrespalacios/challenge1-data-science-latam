{
  "cells": [
    {
      "cell_type": "markdown",
      "metadata": {
        "id": "RhEdWd9YUR6H"
      },
      "source": [
        "### Importación de datos\n",
        "\n"
      ]
    },
    {
      "cell_type": "code",
      "execution_count": 2,
      "metadata": {
        "colab": {
          "base_uri": "https://localhost:8080/",
          "height": 206
        },
        "id": "T3EvaeQ_INIL",
        "outputId": "e9c5efe1-82a3-43ab-e8d7-6d01e4fa3514"
      },
      "outputs": [
        {
          "data": {
            "text/html": [
              "<div>\n",
              "<style scoped>\n",
              "    .dataframe tbody tr th:only-of-type {\n",
              "        vertical-align: middle;\n",
              "    }\n",
              "\n",
              "    .dataframe tbody tr th {\n",
              "        vertical-align: top;\n",
              "    }\n",
              "\n",
              "    .dataframe thead th {\n",
              "        text-align: right;\n",
              "    }\n",
              "</style>\n",
              "<table border=\"1\" class=\"dataframe\">\n",
              "  <thead>\n",
              "    <tr style=\"text-align: right;\">\n",
              "      <th></th>\n",
              "      <th>Producto</th>\n",
              "      <th>Categoría del Producto</th>\n",
              "      <th>Precio</th>\n",
              "      <th>Costo de envío</th>\n",
              "      <th>Fecha de Compra</th>\n",
              "      <th>Vendedor</th>\n",
              "      <th>Lugar de Compra</th>\n",
              "      <th>Calificación</th>\n",
              "      <th>Método de pago</th>\n",
              "      <th>Cantidad de cuotas</th>\n",
              "      <th>lat</th>\n",
              "      <th>lon</th>\n",
              "    </tr>\n",
              "  </thead>\n",
              "  <tbody>\n",
              "    <tr>\n",
              "      <th>0</th>\n",
              "      <td>Asistente virtual</td>\n",
              "      <td>Electrónicos</td>\n",
              "      <td>164300.0</td>\n",
              "      <td>6900.0</td>\n",
              "      <td>16/01/2021</td>\n",
              "      <td>Pedro Gomez</td>\n",
              "      <td>Bogotá</td>\n",
              "      <td>4</td>\n",
              "      <td>Tarjeta de crédito</td>\n",
              "      <td>8</td>\n",
              "      <td>4.60971</td>\n",
              "      <td>-74.08175</td>\n",
              "    </tr>\n",
              "    <tr>\n",
              "      <th>1</th>\n",
              "      <td>Mesa de comedor</td>\n",
              "      <td>Muebles</td>\n",
              "      <td>192300.0</td>\n",
              "      <td>8400.0</td>\n",
              "      <td>18/05/2022</td>\n",
              "      <td>Beatriz Morales</td>\n",
              "      <td>Medellín</td>\n",
              "      <td>1</td>\n",
              "      <td>Tarjeta de crédito</td>\n",
              "      <td>4</td>\n",
              "      <td>6.25184</td>\n",
              "      <td>-75.56359</td>\n",
              "    </tr>\n",
              "    <tr>\n",
              "      <th>2</th>\n",
              "      <td>Juego de mesa</td>\n",
              "      <td>Juguetes</td>\n",
              "      <td>209600.0</td>\n",
              "      <td>15900.0</td>\n",
              "      <td>15/03/2021</td>\n",
              "      <td>Juan Fernandez</td>\n",
              "      <td>Cartagena</td>\n",
              "      <td>1</td>\n",
              "      <td>Tarjeta de crédito</td>\n",
              "      <td>1</td>\n",
              "      <td>10.39972</td>\n",
              "      <td>-75.51444</td>\n",
              "    </tr>\n",
              "    <tr>\n",
              "      <th>3</th>\n",
              "      <td>Microondas</td>\n",
              "      <td>Electrodomésticos</td>\n",
              "      <td>757500.0</td>\n",
              "      <td>41000.0</td>\n",
              "      <td>03/05/2022</td>\n",
              "      <td>Juan Fernandez</td>\n",
              "      <td>Cali</td>\n",
              "      <td>4</td>\n",
              "      <td>Nequi</td>\n",
              "      <td>1</td>\n",
              "      <td>3.43722</td>\n",
              "      <td>-76.52250</td>\n",
              "    </tr>\n",
              "    <tr>\n",
              "      <th>4</th>\n",
              "      <td>Silla de oficina</td>\n",
              "      <td>Muebles</td>\n",
              "      <td>335200.0</td>\n",
              "      <td>20200.0</td>\n",
              "      <td>07/11/2020</td>\n",
              "      <td>Maria Alfonso</td>\n",
              "      <td>Medellín</td>\n",
              "      <td>5</td>\n",
              "      <td>Nequi</td>\n",
              "      <td>1</td>\n",
              "      <td>6.25184</td>\n",
              "      <td>-75.56359</td>\n",
              "    </tr>\n",
              "  </tbody>\n",
              "</table>\n",
              "</div>"
            ],
            "text/plain": [
              "            Producto Categoría del Producto    Precio  Costo de envío  \\\n",
              "0  Asistente virtual           Electrónicos  164300.0          6900.0   \n",
              "1    Mesa de comedor                Muebles  192300.0          8400.0   \n",
              "2      Juego de mesa               Juguetes  209600.0         15900.0   \n",
              "3         Microondas      Electrodomésticos  757500.0         41000.0   \n",
              "4   Silla de oficina                Muebles  335200.0         20200.0   \n",
              "\n",
              "  Fecha de Compra         Vendedor Lugar de Compra  Calificación  \\\n",
              "0      16/01/2021      Pedro Gomez          Bogotá             4   \n",
              "1      18/05/2022  Beatriz Morales        Medellín             1   \n",
              "2      15/03/2021   Juan Fernandez       Cartagena             1   \n",
              "3      03/05/2022   Juan Fernandez            Cali             4   \n",
              "4      07/11/2020    Maria Alfonso        Medellín             5   \n",
              "\n",
              "       Método de pago  Cantidad de cuotas       lat       lon  \n",
              "0  Tarjeta de crédito                   8   4.60971 -74.08175  \n",
              "1  Tarjeta de crédito                   4   6.25184 -75.56359  \n",
              "2  Tarjeta de crédito                   1  10.39972 -75.51444  \n",
              "3               Nequi                   1   3.43722 -76.52250  \n",
              "4               Nequi                   1   6.25184 -75.56359  "
            ]
          },
          "execution_count": 2,
          "metadata": {},
          "output_type": "execute_result"
        }
      ],
      "source": [
        "import pandas as pd\n",
        "\n",
        "url = \"base-de-datos-challenge1-latam/tienda_1 .csv\"\n",
        "url2 = \"base-de-datos-challenge1-latam/tienda_2.csv\"\n",
        "url3 = \"base-de-datos-challenge1-latam/tienda_3.csv\"\n",
        "url4 = \"base-de-datos-challenge1-latam/tienda_4.csv\"\n",
        "\n",
        "tienda = pd.read_csv(url)\n",
        "tienda2 = pd.read_csv(url2)\n",
        "tienda3 = pd.read_csv(url3)\n",
        "tienda4 = pd.read_csv(url4)\n",
        "\n",
        "tienda.head()"
      ]
    },
    {
      "cell_type": "markdown",
      "metadata": {},
      "source": [
        "# 0. Caracterización de los datos inicial"
      ]
    },
    {
      "cell_type": "markdown",
      "metadata": {},
      "source": [
        "Cantidad de datos, las filas representan compras y las columnas informacion por cada compra"
      ]
    },
    {
      "cell_type": "code",
      "execution_count": 3,
      "metadata": {},
      "outputs": [
        {
          "name": "stdout",
          "output_type": "stream",
          "text": [
            "Filas por tienda: \n",
            "Tienda 1: 2359\n",
            "Tienda 2: 2359\n",
            "Tienda 3: 2359\n",
            "Tienda 4: 2358\n",
            "--------------------\n",
            "Columnas por tienda: \n",
            "Tienda 1: 12\n",
            "Tienda 2: 12\n",
            "Tienda 3: 12\n",
            "Tienda 4: 12\n"
          ]
        }
      ],
      "source": [
        "print(f\"Filas por tienda: \\nTienda 1: {tienda.shape[0]}\\nTienda 2: {tienda2.shape[0]}\\nTienda 3: {tienda3.shape[0]}\\nTienda 4: {tienda4.shape[0]}\")\n",
        "print(\"-\"*20)\n",
        "print(f\"Columnas por tienda: \\nTienda 1: {tienda.shape[1]}\\nTienda 2: {tienda2.shape[1]}\\nTienda 3: {tienda3.shape[1]}\\nTienda 4: {tienda4.shape[1]}\")"
      ]
    },
    {
      "cell_type": "markdown",
      "metadata": {},
      "source": [
        "Todas las tiendas tienen las mismas columnas? "
      ]
    },
    {
      "cell_type": "code",
      "execution_count": 4,
      "metadata": {},
      "outputs": [
        {
          "name": "stdout",
          "output_type": "stream",
          "text": [
            "Las 4 tiendas tienen las mismas columnas\n"
          ]
        }
      ],
      "source": [
        "def eq_lists(l1: list[str] = [], l2: list[str] = []) -> bool:\n",
        "    \"\"\"\n",
        "    Compara dos listas de strings para verificar si son iguales.\n",
        "\n",
        "    Args:\n",
        "        l1 (list[str]): Primera lista de strings a comparar\n",
        "        l2 (list[str]): Segunda lista de strings a comparar\n",
        "\n",
        "    Returns:\n",
        "        bool: True si las listas son iguales en longitud y contenido,\n",
        "              False si las listas tienen diferente longitud, están vacías,\n",
        "              o tienen elementos diferentes\n",
        "    \"\"\"\n",
        "    if (len(l1) != len(l2)) or len(l1) == 0 or len(l2) == 0:\n",
        "        return False\n",
        "    for i in range(len(l1)):\n",
        "        if l1[i] != l2[i]:\n",
        "            return False\n",
        "    return True\n",
        "    \n",
        "# Lista con las columnas de cada tienda\n",
        "cols = [tienda.columns, tienda2.columns, tienda3.columns, tienda4.columns]\n",
        "\n",
        "# Bandera para detectar diferencias\n",
        "diff_flag = 0\n",
        "\n",
        "# Compara las columnas de cada tienda con la siguiente\n",
        "for i in range(len(cols)-1):\n",
        "    if not eq_lists(cols[i], cols[i+1]):\n",
        "        diff_flag = 1\n",
        "        print(\"No son iguales las columnas de las 4 tiendas.\")\n",
        "\n",
        "# Si no se encontraron diferencias, todas las tiendas tienen las mismas columnas        \n",
        "if diff_flag == 0: \n",
        "    print(\"Las 4 tiendas tienen las mismas columnas\")"
      ]
    },
    {
      "cell_type": "markdown",
      "metadata": {},
      "source": [
        "Esto es importante ya que nos permite afirmar que la descripcion y entendimiento de las variables de una tienda aplica para todas las demas, es por esto que ahora nos enfocaremos en solo 1 tienda."
      ]
    },
    {
      "cell_type": "code",
      "execution_count": 5,
      "metadata": {},
      "outputs": [
        {
          "name": "stdout",
          "output_type": "stream",
          "text": [
            "<class 'pandas.core.frame.DataFrame'>\n",
            "RangeIndex: 2359 entries, 0 to 2358\n",
            "Data columns (total 12 columns):\n",
            " #   Column                  Non-Null Count  Dtype  \n",
            "---  ------                  --------------  -----  \n",
            " 0   Producto                2359 non-null   object \n",
            " 1   Categoría del Producto  2359 non-null   object \n",
            " 2   Precio                  2359 non-null   float64\n",
            " 3   Costo de envío          2359 non-null   float64\n",
            " 4   Fecha de Compra         2359 non-null   object \n",
            " 5   Vendedor                2359 non-null   object \n",
            " 6   Lugar de Compra         2359 non-null   object \n",
            " 7   Calificación            2359 non-null   int64  \n",
            " 8   Método de pago          2359 non-null   object \n",
            " 9   Cantidad de cuotas      2359 non-null   int64  \n",
            " 10  lat                     2359 non-null   float64\n",
            " 11  lon                     2359 non-null   float64\n",
            "dtypes: float64(4), int64(2), object(6)\n",
            "memory usage: 221.3+ KB\n"
          ]
        }
      ],
      "source": [
        "tienda.info()"
      ]
    },
    {
      "cell_type": "markdown",
      "metadata": {},
      "source": [
        "Variables categoricas con menos de 10 valores unicos "
      ]
    },
    {
      "cell_type": "code",
      "execution_count": 40,
      "metadata": {},
      "outputs": [
        {
          "name": "stdout",
          "output_type": "stream",
          "text": [
            "Categoría del Producto\n",
            "\t Artículos para el hogar\n",
            "\t Deportes y diversión\n",
            "\t Electrodomésticos\n",
            "\t Electrónicos\n",
            "\t Instrumentos musicales\n",
            "\t Juguetes\n",
            "\t Libros\n",
            "\t Muebles\n",
            "Calificación\n",
            "\t 1\n",
            "\t 2\n",
            "\t 3\n",
            "\t 4\n",
            "\t 5\n",
            "Método de pago\n",
            "\t Cupón\n",
            "\t Nequi\n",
            "\t Tarjeta de crédito\n",
            "\t Tarjeta de débito\n"
          ]
        }
      ],
      "source": [
        "for columna in tienda.columns:\n",
        "    if tienda[columna].nunique() < 10:\n",
        "        print(columna)\n",
        "        lista_categorias = tienda[columna].unique()\n",
        "        lista_categorias.sort()\n",
        "        for elemento in lista_categorias:\n",
        "            print(\"\\t\",elemento)"
      ]
    },
    {
      "cell_type": "markdown",
      "metadata": {},
      "source": [
        "Descripción general de todas las columnas numericas y categoricas"
      ]
    },
    {
      "cell_type": "code",
      "execution_count": 7,
      "metadata": {},
      "outputs": [
        {
          "data": {
            "text/html": [
              "<div>\n",
              "<style scoped>\n",
              "    .dataframe tbody tr th:only-of-type {\n",
              "        vertical-align: middle;\n",
              "    }\n",
              "\n",
              "    .dataframe tbody tr th {\n",
              "        vertical-align: top;\n",
              "    }\n",
              "\n",
              "    .dataframe thead th {\n",
              "        text-align: right;\n",
              "    }\n",
              "</style>\n",
              "<table border=\"1\" class=\"dataframe\">\n",
              "  <thead>\n",
              "    <tr style=\"text-align: right;\">\n",
              "      <th></th>\n",
              "      <th>Producto</th>\n",
              "      <th>Categoría del Producto</th>\n",
              "      <th>Precio</th>\n",
              "      <th>Costo de envío</th>\n",
              "      <th>Fecha de Compra</th>\n",
              "      <th>Vendedor</th>\n",
              "      <th>Lugar de Compra</th>\n",
              "      <th>Calificación</th>\n",
              "      <th>Método de pago</th>\n",
              "      <th>Cantidad de cuotas</th>\n",
              "      <th>lat</th>\n",
              "      <th>lon</th>\n",
              "    </tr>\n",
              "  </thead>\n",
              "  <tbody>\n",
              "    <tr>\n",
              "      <th>count</th>\n",
              "      <td>2359</td>\n",
              "      <td>2359</td>\n",
              "      <td>2.359000e+03</td>\n",
              "      <td>2359.000000</td>\n",
              "      <td>2359</td>\n",
              "      <td>2359</td>\n",
              "      <td>2359</td>\n",
              "      <td>2359.000000</td>\n",
              "      <td>2359</td>\n",
              "      <td>2359.000000</td>\n",
              "      <td>2359.000000</td>\n",
              "      <td>2359.000000</td>\n",
              "    </tr>\n",
              "    <tr>\n",
              "      <th>unique</th>\n",
              "      <td>51</td>\n",
              "      <td>8</td>\n",
              "      <td>NaN</td>\n",
              "      <td>NaN</td>\n",
              "      <td>1018</td>\n",
              "      <td>14</td>\n",
              "      <td>19</td>\n",
              "      <td>NaN</td>\n",
              "      <td>4</td>\n",
              "      <td>NaN</td>\n",
              "      <td>NaN</td>\n",
              "      <td>NaN</td>\n",
              "    </tr>\n",
              "    <tr>\n",
              "      <th>top</th>\n",
              "      <td>Microondas</td>\n",
              "      <td>Muebles</td>\n",
              "      <td>NaN</td>\n",
              "      <td>NaN</td>\n",
              "      <td>15/05/2021</td>\n",
              "      <td>Izabela de León</td>\n",
              "      <td>Bogotá</td>\n",
              "      <td>NaN</td>\n",
              "      <td>Tarjeta de crédito</td>\n",
              "      <td>NaN</td>\n",
              "      <td>NaN</td>\n",
              "      <td>NaN</td>\n",
              "    </tr>\n",
              "    <tr>\n",
              "      <th>freq</th>\n",
              "      <td>60</td>\n",
              "      <td>465</td>\n",
              "      <td>NaN</td>\n",
              "      <td>NaN</td>\n",
              "      <td>7</td>\n",
              "      <td>197</td>\n",
              "      <td>984</td>\n",
              "      <td>NaN</td>\n",
              "      <td>1704</td>\n",
              "      <td>NaN</td>\n",
              "      <td>NaN</td>\n",
              "      <td>NaN</td>\n",
              "    </tr>\n",
              "    <tr>\n",
              "      <th>mean</th>\n",
              "      <td>NaN</td>\n",
              "      <td>NaN</td>\n",
              "      <td>4.878679e+05</td>\n",
              "      <td>26018.609580</td>\n",
              "      <td>NaN</td>\n",
              "      <td>NaN</td>\n",
              "      <td>NaN</td>\n",
              "      <td>3.976685</td>\n",
              "      <td>NaN</td>\n",
              "      <td>2.943196</td>\n",
              "      <td>5.365283</td>\n",
              "      <td>-74.789417</td>\n",
              "    </tr>\n",
              "    <tr>\n",
              "      <th>std</th>\n",
              "      <td>NaN</td>\n",
              "      <td>NaN</td>\n",
              "      <td>6.146868e+05</td>\n",
              "      <td>32860.001783</td>\n",
              "      <td>NaN</td>\n",
              "      <td>NaN</td>\n",
              "      <td>NaN</td>\n",
              "      <td>1.415370</td>\n",
              "      <td>NaN</td>\n",
              "      <td>2.819897</td>\n",
              "      <td>2.287445</td>\n",
              "      <td>1.217827</td>\n",
              "    </tr>\n",
              "    <tr>\n",
              "      <th>min</th>\n",
              "      <td>NaN</td>\n",
              "      <td>NaN</td>\n",
              "      <td>7.600000e+03</td>\n",
              "      <td>0.000000</td>\n",
              "      <td>NaN</td>\n",
              "      <td>NaN</td>\n",
              "      <td>NaN</td>\n",
              "      <td>1.000000</td>\n",
              "      <td>NaN</td>\n",
              "      <td>1.000000</td>\n",
              "      <td>-4.215280</td>\n",
              "      <td>-77.281110</td>\n",
              "    </tr>\n",
              "    <tr>\n",
              "      <th>25%</th>\n",
              "      <td>NaN</td>\n",
              "      <td>NaN</td>\n",
              "      <td>5.575000e+04</td>\n",
              "      <td>3100.000000</td>\n",
              "      <td>NaN</td>\n",
              "      <td>NaN</td>\n",
              "      <td>NaN</td>\n",
              "      <td>3.000000</td>\n",
              "      <td>NaN</td>\n",
              "      <td>1.000000</td>\n",
              "      <td>4.609710</td>\n",
              "      <td>-75.563590</td>\n",
              "    </tr>\n",
              "    <tr>\n",
              "      <th>50%</th>\n",
              "      <td>NaN</td>\n",
              "      <td>NaN</td>\n",
              "      <td>2.353000e+05</td>\n",
              "      <td>12400.000000</td>\n",
              "      <td>NaN</td>\n",
              "      <td>NaN</td>\n",
              "      <td>NaN</td>\n",
              "      <td>5.000000</td>\n",
              "      <td>NaN</td>\n",
              "      <td>1.000000</td>\n",
              "      <td>4.609710</td>\n",
              "      <td>-74.199040</td>\n",
              "    </tr>\n",
              "    <tr>\n",
              "      <th>75%</th>\n",
              "      <td>NaN</td>\n",
              "      <td>NaN</td>\n",
              "      <td>6.781000e+05</td>\n",
              "      <td>36000.000000</td>\n",
              "      <td>NaN</td>\n",
              "      <td>NaN</td>\n",
              "      <td>NaN</td>\n",
              "      <td>5.000000</td>\n",
              "      <td>NaN</td>\n",
              "      <td>4.000000</td>\n",
              "      <td>6.251840</td>\n",
              "      <td>-74.081750</td>\n",
              "    </tr>\n",
              "    <tr>\n",
              "      <th>max</th>\n",
              "      <td>NaN</td>\n",
              "      <td>NaN</td>\n",
              "      <td>2.977000e+06</td>\n",
              "      <td>160800.000000</td>\n",
              "      <td>NaN</td>\n",
              "      <td>NaN</td>\n",
              "      <td>NaN</td>\n",
              "      <td>5.000000</td>\n",
              "      <td>NaN</td>\n",
              "      <td>24.000000</td>\n",
              "      <td>11.544440</td>\n",
              "      <td>-67.923900</td>\n",
              "    </tr>\n",
              "  </tbody>\n",
              "</table>\n",
              "</div>"
            ],
            "text/plain": [
              "          Producto Categoría del Producto        Precio  Costo de envío  \\\n",
              "count         2359                   2359  2.359000e+03     2359.000000   \n",
              "unique          51                      8           NaN             NaN   \n",
              "top     Microondas                Muebles           NaN             NaN   \n",
              "freq            60                    465           NaN             NaN   \n",
              "mean           NaN                    NaN  4.878679e+05    26018.609580   \n",
              "std            NaN                    NaN  6.146868e+05    32860.001783   \n",
              "min            NaN                    NaN  7.600000e+03        0.000000   \n",
              "25%            NaN                    NaN  5.575000e+04     3100.000000   \n",
              "50%            NaN                    NaN  2.353000e+05    12400.000000   \n",
              "75%            NaN                    NaN  6.781000e+05    36000.000000   \n",
              "max            NaN                    NaN  2.977000e+06   160800.000000   \n",
              "\n",
              "       Fecha de Compra         Vendedor Lugar de Compra  Calificación  \\\n",
              "count             2359             2359            2359   2359.000000   \n",
              "unique            1018               14              19           NaN   \n",
              "top         15/05/2021  Izabela de León          Bogotá           NaN   \n",
              "freq                 7              197             984           NaN   \n",
              "mean               NaN              NaN             NaN      3.976685   \n",
              "std                NaN              NaN             NaN      1.415370   \n",
              "min                NaN              NaN             NaN      1.000000   \n",
              "25%                NaN              NaN             NaN      3.000000   \n",
              "50%                NaN              NaN             NaN      5.000000   \n",
              "75%                NaN              NaN             NaN      5.000000   \n",
              "max                NaN              NaN             NaN      5.000000   \n",
              "\n",
              "            Método de pago  Cantidad de cuotas          lat          lon  \n",
              "count                 2359         2359.000000  2359.000000  2359.000000  \n",
              "unique                   4                 NaN          NaN          NaN  \n",
              "top     Tarjeta de crédito                 NaN          NaN          NaN  \n",
              "freq                  1704                 NaN          NaN          NaN  \n",
              "mean                   NaN            2.943196     5.365283   -74.789417  \n",
              "std                    NaN            2.819897     2.287445     1.217827  \n",
              "min                    NaN            1.000000    -4.215280   -77.281110  \n",
              "25%                    NaN            1.000000     4.609710   -75.563590  \n",
              "50%                    NaN            1.000000     4.609710   -74.199040  \n",
              "75%                    NaN            4.000000     6.251840   -74.081750  \n",
              "max                    NaN           24.000000    11.544440   -67.923900  "
            ]
          },
          "execution_count": 7,
          "metadata": {},
          "output_type": "execute_result"
        }
      ],
      "source": [
        "tienda.describe(include='all')"
      ]
    },
    {
      "cell_type": "markdown",
      "metadata": {
        "id": "X62IW3KFUIYm"
      },
      "source": [
        "# 1. Análisis de facturación\n"
      ]
    },
    {
      "cell_type": "markdown",
      "metadata": {},
      "source": [
        "Calcular el total vendido por cada tienda"
      ]
    },
    {
      "cell_type": "code",
      "execution_count": 46,
      "metadata": {
        "id": "xykobSftV64I"
      },
      "outputs": [
        {
          "name": "stdout",
          "output_type": "stream",
          "text": [
            "Ventas totales de la tienda 1 -> $1,150,880,400.00\n",
            "Ventas totales de la tienda 2 -> $1,116,343,500.00\n",
            "Ventas totales de la tienda 3 -> $1,098,019,600.00\n",
            "Ventas totales de la tienda 4 -> $1,038,375,700.00\n"
          ]
        }
      ],
      "source": [
        "lista_tiendas = [tienda, tienda2, tienda3, tienda4]\n",
        "cont = 1\n",
        "ventas = []\n",
        "for tienda_n in lista_tiendas:\n",
        "    ventas.append(tienda_n['Precio'].sum())\n",
        "    print(f\"Ventas totales de la tienda {cont} -> ${ventas[cont-1]:,.2f}\")\n",
        "    cont = cont + 1"
      ]
    },
    {
      "cell_type": "markdown",
      "metadata": {},
      "source": [
        "# 2. Ventas por categoría"
      ]
    },
    {
      "cell_type": "markdown",
      "metadata": {},
      "source": [
        "Cantidad de productos vendidos por categoria en cada tienda"
      ]
    },
    {
      "cell_type": "code",
      "execution_count": 61,
      "metadata": {},
      "outputs": [
        {
          "data": {
            "text/html": [
              "<div>\n",
              "<style scoped>\n",
              "    .dataframe tbody tr th:only-of-type {\n",
              "        vertical-align: middle;\n",
              "    }\n",
              "\n",
              "    .dataframe tbody tr th {\n",
              "        vertical-align: top;\n",
              "    }\n",
              "\n",
              "    .dataframe thead th {\n",
              "        text-align: right;\n",
              "    }\n",
              "</style>\n",
              "<table border=\"1\" class=\"dataframe\">\n",
              "  <thead>\n",
              "    <tr style=\"text-align: right;\">\n",
              "      <th></th>\n",
              "      <th>Tienda 1</th>\n",
              "      <th>Ventas 1</th>\n",
              "      <th>Tienda 2</th>\n",
              "      <th>Ventas 2</th>\n",
              "      <th>Tienda 3</th>\n",
              "      <th>Ventas 3</th>\n",
              "      <th>Tienda 4</th>\n",
              "      <th>Ventas 4</th>\n",
              "    </tr>\n",
              "  </thead>\n",
              "  <tbody>\n",
              "    <tr>\n",
              "      <th>0</th>\n",
              "      <td>Muebles</td>\n",
              "      <td>465</td>\n",
              "      <td>Muebles</td>\n",
              "      <td>442</td>\n",
              "      <td>Muebles</td>\n",
              "      <td>499</td>\n",
              "      <td>Muebles</td>\n",
              "      <td>480</td>\n",
              "    </tr>\n",
              "    <tr>\n",
              "      <th>1</th>\n",
              "      <td>Electrónicos</td>\n",
              "      <td>448</td>\n",
              "      <td>Electrónicos</td>\n",
              "      <td>422</td>\n",
              "      <td>Electrónicos</td>\n",
              "      <td>451</td>\n",
              "      <td>Electrónicos</td>\n",
              "      <td>451</td>\n",
              "    </tr>\n",
              "    <tr>\n",
              "      <th>2</th>\n",
              "      <td>Juguetes</td>\n",
              "      <td>324</td>\n",
              "      <td>Juguetes</td>\n",
              "      <td>313</td>\n",
              "      <td>Juguetes</td>\n",
              "      <td>315</td>\n",
              "      <td>Juguetes</td>\n",
              "      <td>338</td>\n",
              "    </tr>\n",
              "    <tr>\n",
              "      <th>3</th>\n",
              "      <td>Electrodomésticos</td>\n",
              "      <td>312</td>\n",
              "      <td>Electrodomésticos</td>\n",
              "      <td>305</td>\n",
              "      <td>Electrodomésticos</td>\n",
              "      <td>278</td>\n",
              "      <td>Deportes y diversión</td>\n",
              "      <td>277</td>\n",
              "    </tr>\n",
              "    <tr>\n",
              "      <th>4</th>\n",
              "      <td>Deportes y diversión</td>\n",
              "      <td>284</td>\n",
              "      <td>Deportes y diversión</td>\n",
              "      <td>275</td>\n",
              "      <td>Deportes y diversión</td>\n",
              "      <td>277</td>\n",
              "      <td>Electrodomésticos</td>\n",
              "      <td>254</td>\n",
              "    </tr>\n",
              "    <tr>\n",
              "      <th>5</th>\n",
              "      <td>Instrumentos musicales</td>\n",
              "      <td>182</td>\n",
              "      <td>Instrumentos musicales</td>\n",
              "      <td>224</td>\n",
              "      <td>Libros</td>\n",
              "      <td>185</td>\n",
              "      <td>Artículos para el hogar</td>\n",
              "      <td>201</td>\n",
              "    </tr>\n",
              "    <tr>\n",
              "      <th>6</th>\n",
              "      <td>Libros</td>\n",
              "      <td>173</td>\n",
              "      <td>Libros</td>\n",
              "      <td>197</td>\n",
              "      <td>Artículos para el hogar</td>\n",
              "      <td>177</td>\n",
              "      <td>Libros</td>\n",
              "      <td>187</td>\n",
              "    </tr>\n",
              "    <tr>\n",
              "      <th>7</th>\n",
              "      <td>Artículos para el hogar</td>\n",
              "      <td>171</td>\n",
              "      <td>Artículos para el hogar</td>\n",
              "      <td>181</td>\n",
              "      <td>Instrumentos musicales</td>\n",
              "      <td>177</td>\n",
              "      <td>Instrumentos musicales</td>\n",
              "      <td>170</td>\n",
              "    </tr>\n",
              "  </tbody>\n",
              "</table>\n",
              "</div>"
            ],
            "text/plain": [
              "                  Tienda 1  Ventas 1                 Tienda 2  Ventas 2  \\\n",
              "0                  Muebles       465                  Muebles       442   \n",
              "1             Electrónicos       448             Electrónicos       422   \n",
              "2                 Juguetes       324                 Juguetes       313   \n",
              "3        Electrodomésticos       312        Electrodomésticos       305   \n",
              "4     Deportes y diversión       284     Deportes y diversión       275   \n",
              "5   Instrumentos musicales       182   Instrumentos musicales       224   \n",
              "6                   Libros       173                   Libros       197   \n",
              "7  Artículos para el hogar       171  Artículos para el hogar       181   \n",
              "\n",
              "                  Tienda 3  Ventas 3                 Tienda 4  Ventas 4  \n",
              "0                  Muebles       499                  Muebles       480  \n",
              "1             Electrónicos       451             Electrónicos       451  \n",
              "2                 Juguetes       315                 Juguetes       338  \n",
              "3        Electrodomésticos       278     Deportes y diversión       277  \n",
              "4     Deportes y diversión       277        Electrodomésticos       254  \n",
              "5                   Libros       185  Artículos para el hogar       201  \n",
              "6  Artículos para el hogar       177                   Libros       187  \n",
              "7   Instrumentos musicales       177   Instrumentos musicales       170  "
            ]
          },
          "execution_count": 61,
          "metadata": {},
          "output_type": "execute_result"
        }
      ],
      "source": [
        "df_topcategorias = pd.DataFrame()\n",
        "count = 1\n",
        "for tienda_n in lista_tiendas:\n",
        "    df_topcategorias[f'Tienda {count}'] = tienda_n.groupby('Categoría del Producto')['Categoría del Producto'].count().sort_values(ascending=False).index\n",
        "    df_topcategorias[f'Ventas {count}'] = tienda_n.groupby('Categoría del Producto')['Categoría del Producto'].count().sort_values(ascending=False).values\n",
        "    count += 1\n",
        "df_topcategorias.head(8)"
      ]
    },
    {
      "cell_type": "markdown",
      "metadata": {
        "id": "Rq6tU_xSY3jk"
      },
      "source": [
        "# 3. Calificación promedio de la tienda\n"
      ]
    },
    {
      "cell_type": "code",
      "execution_count": null,
      "metadata": {
        "id": "bh3jjjJwY5MU"
      },
      "outputs": [],
      "source": []
    },
    {
      "cell_type": "code",
      "execution_count": null,
      "metadata": {
        "id": "I0KkjPoTY88F"
      },
      "outputs": [],
      "source": []
    },
    {
      "cell_type": "markdown",
      "metadata": {
        "id": "DmNp1KPBZCm-"
      },
      "source": [
        "# 4. Productos más y menos vendidos"
      ]
    },
    {
      "cell_type": "code",
      "execution_count": null,
      "metadata": {
        "id": "qoyjqijQZHfF"
      },
      "outputs": [],
      "source": []
    },
    {
      "cell_type": "code",
      "execution_count": null,
      "metadata": {
        "id": "0Sw3sd4IZIGW"
      },
      "outputs": [],
      "source": []
    },
    {
      "cell_type": "markdown",
      "metadata": {
        "id": "Fl0cGi3bZKqU"
      },
      "source": [
        "# 5. Envío promedio por tienda"
      ]
    },
    {
      "cell_type": "code",
      "execution_count": null,
      "metadata": {
        "id": "S2JeaCykZNy9"
      },
      "outputs": [],
      "source": []
    },
    {
      "cell_type": "code",
      "execution_count": null,
      "metadata": {
        "id": "0tSdCie9ZQlt"
      },
      "outputs": [],
      "source": []
    }
  ],
  "metadata": {
    "colab": {
      "provenance": []
    },
    "kernelspec": {
      "display_name": "Python 3",
      "name": "python3"
    },
    "language_info": {
      "codemirror_mode": {
        "name": "ipython",
        "version": 3
      },
      "file_extension": ".py",
      "mimetype": "text/x-python",
      "name": "python",
      "nbconvert_exporter": "python",
      "pygments_lexer": "ipython3",
      "version": "3.12.10"
    }
  },
  "nbformat": 4,
  "nbformat_minor": 0
}
