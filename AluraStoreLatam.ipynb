{
  "cells": [
    {
      "cell_type": "markdown",
      "metadata": {
        "id": "RhEdWd9YUR6H"
      },
      "source": [
        "### Importación de datos\n",
        "\n"
      ]
    },
    {
      "cell_type": "code",
      "execution_count": 1,
      "metadata": {
        "colab": {
          "base_uri": "https://localhost:8080/",
          "height": 206
        },
        "id": "T3EvaeQ_INIL",
        "outputId": "e9c5efe1-82a3-43ab-e8d7-6d01e4fa3514"
      },
      "outputs": [],
      "source": [
        "import pandas as pd\n",
        "\n",
        "url = \"base-de-datos-challenge1-latam/tienda_1 .csv\"\n",
        "url2 = \"base-de-datos-challenge1-latam/tienda_2.csv\"\n",
        "url3 = \"base-de-datos-challenge1-latam/tienda_3.csv\"\n",
        "url4 = \"base-de-datos-challenge1-latam/tienda_4.csv\"\n",
        "\n",
        "tienda = pd.read_csv(url)\n",
        "tienda2 = pd.read_csv(url2)\n",
        "tienda3 = pd.read_csv(url3)\n",
        "tienda4 = pd.read_csv(url4)\n",
        "\n",
        "tienda.head()"
      ]
    },
    {
      "cell_type": "markdown",
      "metadata": {},
      "source": [
        "# 0. Caracterización de los datos inicial"
      ]
    },
    {
      "cell_type": "markdown",
      "metadata": {},
      "source": [
        "Cantidad de datos, las filas representan compras y las columnas informacion por cada compra"
      ]
    },
    {
      "cell_type": "code",
      "execution_count": 2,
      "metadata": {},
      "outputs": [],
      "source": [
        "print(f\"Filas por tienda: \\nTienda 1: {tienda.shape[0]}\\nTienda 2: {tienda2.shape[0]}\\nTienda 3: {tienda3.shape[0]}\\nTienda 4: {tienda4.shape[0]}\")\n",
        "print(\"-\"*20)\n",
        "print(f\"Columnas por tienda: \\nTienda 1: {tienda.shape[1]}\\nTienda 2: {tienda2.shape[1]}\\nTienda 3: {tienda3.shape[1]}\\nTienda 4: {tienda4.shape[1]}\")"
      ]
    },
    {
      "cell_type": "markdown",
      "metadata": {},
      "source": [
        "Todas las tiendas tienen las mismas columnas? "
      ]
    },
    {
      "cell_type": "code",
      "execution_count": 3,
      "metadata": {},
      "outputs": [],
      "source": [
        "def eq_lists(l1: list[str] = [], l2: list[str] = []) -> bool:\n",
        "    \"\"\"\n",
        "    Compara dos listas de strings para verificar si son iguales.\n",
        "\n",
        "    Args:\n",
        "        l1 (list[str]): Primera lista de strings a comparar\n",
        "        l2 (list[str]): Segunda lista de strings a comparar\n",
        "\n",
        "    Returns:\n",
        "        bool: True si las listas son iguales en longitud y contenido,\n",
        "              False si las listas tienen diferente longitud, están vacías,\n",
        "              o tienen elementos diferentes\n",
        "    \"\"\"\n",
        "    if (len(l1) != len(l2)) or len(l1) == 0 or len(l2) == 0:\n",
        "        return False\n",
        "    for i in range(len(l1)):\n",
        "        if l1[i] != l2[i]:\n",
        "            return False\n",
        "    return True\n",
        "    \n",
        "# Lista con las columnas de cada tienda\n",
        "cols = [tienda.columns, tienda2.columns, tienda3.columns, tienda4.columns]\n",
        "\n",
        "# Bandera para detectar diferencias\n",
        "diff_flag = 0\n",
        "\n",
        "# Compara las columnas de cada tienda con la siguiente\n",
        "for i in range(len(cols)-1):\n",
        "    if not eq_lists(cols[i], cols[i+1]):\n",
        "        diff_flag = 1\n",
        "        print(\"No son iguales las columnas de las 4 tiendas.\")\n",
        "\n",
        "# Si no se encontraron diferencias, todas las tiendas tienen las mismas columnas        \n",
        "if diff_flag == 0: \n",
        "    print(\"Las 4 tiendas tienen las mismas columnas\")"
      ]
    },
    {
      "cell_type": "markdown",
      "metadata": {},
      "source": [
        "Esto es importante ya que nos permite afirmar que la descripcion y entendimiento de las variables de una tienda aplica para todas las demas, es por esto que ahora nos enfocaremos en solo 1 tienda."
      ]
    },
    {
      "cell_type": "code",
      "execution_count": 4,
      "metadata": {},
      "outputs": [],
      "source": [
        "tienda.info()"
      ]
    },
    {
      "cell_type": "markdown",
      "metadata": {},
      "source": [
        "Variables categoricas con menos de 10 valores unicos "
      ]
    },
    {
      "cell_type": "code",
      "execution_count": 5,
      "metadata": {},
      "outputs": [],
      "source": [
        "for columna in tienda.columns:\n",
        "    if tienda[columna].nunique() < 10:\n",
        "        print(columna)\n",
        "        lista_categorias = tienda[columna].unique()\n",
        "        lista_categorias.sort()\n",
        "        for elemento in lista_categorias:\n",
        "            print(\"\\t\",elemento)"
      ]
    },
    {
      "cell_type": "markdown",
      "metadata": {},
      "source": [
        "Descripción general de todas las columnas numericas y categoricas"
      ]
    },
    {
      "cell_type": "code",
      "execution_count": 6,
      "metadata": {},
      "outputs": [],
      "source": [
        "tienda.describe(include='all')"
      ]
    },
    {
      "cell_type": "markdown",
      "metadata": {
        "id": "X62IW3KFUIYm"
      },
      "source": [
        "# 1. Análisis de facturación\n"
      ]
    },
    {
      "cell_type": "markdown",
      "metadata": {},
      "source": [
        "Calcular el total vendido por cada tienda"
      ]
    },
    {
      "cell_type": "code",
      "execution_count": 7,
      "metadata": {
        "id": "xykobSftV64I"
      },
      "outputs": [],
      "source": [
        "lista_tiendas = [tienda, tienda2, tienda3, tienda4]\n",
        "cont = 1\n",
        "ventas = []\n",
        "for tienda_n in lista_tiendas:\n",
        "    ventas.append(tienda_n['Precio'].sum())\n",
        "    print(f\"Ventas totales de la tienda {cont} -> ${ventas[cont-1]:,.2f}\")\n",
        "    cont = cont + 1"
      ]
    },
    {
      "cell_type": "markdown",
      "metadata": {},
      "source": [
        "# 2. Ventas por categoría"
      ]
    },
    {
      "cell_type": "markdown",
      "metadata": {},
      "source": [
        "Cantidad de productos vendidos por categoria en cada tienda"
      ]
    },
    {
      "cell_type": "code",
      "execution_count": 8,
      "metadata": {},
      "outputs": [],
      "source": [
        "df_topcategorias = pd.DataFrame()\n",
        "count = 1\n",
        "for tienda_n in lista_tiendas:\n",
        "    df_topcategorias[f'Tienda {count}'] = tienda_n.groupby('Categoría del Producto')['Categoría del Producto'].count().sort_values(ascending=False).index\n",
        "    df_topcategorias[f'Ventas {count}'] = tienda_n.groupby('Categoría del Producto')['Categoría del Producto'].count().sort_values(ascending=False).values\n",
        "    count += 1\n",
        "df_topcategorias.head(8)"
      ]
    },
    {
      "cell_type": "markdown",
      "metadata": {
        "id": "Rq6tU_xSY3jk"
      },
      "source": [
        "# 3. Calificación promedio de la tienda\n"
      ]
    },
    {
      "cell_type": "code",
      "execution_count": null,
      "metadata": {
        "id": "bh3jjjJwY5MU"
      },
      "outputs": [],
      "source": [
        "df_calificaciones = pd.DataFrame()\n",
        "count = 1\n",
        "for tienda_n in lista_tiendas:\n",
        "    df_calificaciones[f'Tienda {count}'] = [tienda_n['Calificación'].mean()]\n",
        "    count += 1\n",
        "\n",
        "print(\"\\nCalificaciones promedio por tienda:\")\n",
        "print(df_calificaciones.head(1).to_string(index=False))"
      ]
    },
    {
      "cell_type": "markdown",
      "metadata": {
        "id": "DmNp1KPBZCm-"
      },
      "source": [
        "# 4. Productos más y menos vendidos"
      ]
    },
    {
      "cell_type": "code",
      "execution_count": null,
      "metadata": {
        "id": "qoyjqijQZHfF"
      },
      "outputs": [],
      "source": []
    },
    {
      "cell_type": "code",
      "execution_count": null,
      "metadata": {
        "id": "0Sw3sd4IZIGW"
      },
      "outputs": [],
      "source": []
    },
    {
      "cell_type": "markdown",
      "metadata": {
        "id": "Fl0cGi3bZKqU"
      },
      "source": [
        "# 5. Envío promedio por tienda"
      ]
    },
    {
      "cell_type": "code",
      "execution_count": null,
      "metadata": {
        "id": "S2JeaCykZNy9"
      },
      "outputs": [],
      "source": []
    },
    {
      "cell_type": "code",
      "execution_count": null,
      "metadata": {
        "id": "0tSdCie9ZQlt"
      },
      "outputs": [],
      "source": []
    }
  ],
  "metadata": {
    "colab": {
      "provenance": []
    },
    "kernelspec": {
      "display_name": "Python 3",
      "name": "python3"
    },
    "language_info": {
      "codemirror_mode": {
        "name": "ipython",
        "version": 3
      },
      "file_extension": ".py",
      "mimetype": "text/x-python",
      "name": "python",
      "nbconvert_exporter": "python",
      "pygments_lexer": "ipython3",
      "version": "3.12.10"
    }
  },
  "nbformat": 4,
  "nbformat_minor": 0
}
